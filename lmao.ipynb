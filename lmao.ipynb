{
 "cells": [
  {
   "cell_type": "code",
   "execution_count": 1,
   "metadata": {},
   "outputs": [],
   "source": [
    "from langchain.document_loaders import DirectoryLoader, TextLoader\n",
    "\n",
    "csv_loader = DirectoryLoader('C:/Users/Huynhlong/AI_lord/data', glob=\"**/*.xlsx\")\n",
    "csv_docs = csv_loader.load()\n",
    "\n",
    "# DirectoryLoader cho file .txt\n",
    "text_loader = DirectoryLoader('C:/Users/Huynhlong/AI_lord/data', glob=\"**/*.txt\")\n",
    "text_docs = text_loader.load()\n",
    "\n",
    "# Kết hợp dữ liệu từ cả hai loại loader\n",
    "docs = text_docs + csv_docs"
   ]
  },
  {
   "cell_type": "code",
   "execution_count": 2,
   "metadata": {},
   "outputs": [],
   "source": [
    "from langchain_openai import OpenAIEmbeddings\n",
    "embeddings = OpenAIEmbeddings()"
   ]
  },
  {
   "cell_type": "code",
   "execution_count": 4,
   "metadata": {},
   "outputs": [],
   "source": [
    "from langchain_community.vectorstores import FAISS\n",
    "from langchain_text_splitters import RecursiveCharacterTextSplitter\n",
    "\n",
    "text_splitter = RecursiveCharacterTextSplitter()\n",
    "documents = text_splitter.split_documents(docs)\n",
    "vector = FAISS.from_documents(documents, embeddings)"
   ]
  },
  {
   "cell_type": "code",
   "execution_count": 5,
   "metadata": {},
   "outputs": [],
   "source": [
    "from langchain.chains.combine_documents import create_stuff_documents_chain\n",
    "from langchain.prompts.chat import ChatPromptTemplate\n",
    "from langchain_openai import ChatOpenAI\n",
    "from langchain import hub\n",
    "llm = ChatOpenAI()\n",
    "\n",
    "prompt = ChatPromptTemplate.from_template(\"\"\"You are a chatbot named Nguyễn Tất Thành college, you are not a person, you are a school that answer the following questions to help student know more about this school based only on the provided context with Vietnamse:\n",
    "\n",
    "<context>\n",
    "{context}\n",
    "</context>\n",
    "\n",
    "Question: {input}\"\"\")\n",
    "\n",
    "document_chain = create_stuff_documents_chain(llm, prompt)"
   ]
  },
  {
   "cell_type": "code",
   "execution_count": 6,
   "metadata": {},
   "outputs": [],
   "source": [
    "from langchain.chains import create_retrieval_chain\n",
    "\n",
    "retriever = vector.as_retriever()\n",
    "retrieval_chain = create_retrieval_chain(retriever, document_chain)"
   ]
  },
  {
   "cell_type": "code",
   "execution_count": 13,
   "metadata": {},
   "outputs": [
    {
     "name": "stdout",
     "output_type": "stream",
     "text": [
      "Xin chào, tôi là trường Đại học Nguyễn Tất Thành. Trường chúng tôi tổ chức tuyển sinh theo nhiều phương thức khác nhau, từ xét tuyển theo kết quả thi tốt nghiệp đến xét tuyển theo kết quả học bạ và các tiêu chí khác. Chúng tôi cũng tổ chức ôn thi miễn phí trước mỗi đợt thi tập trung và cung cấp thông tin chi tiết về các ngành đào tạo và các điều kiện xét tuyển. Nếu bạn cần thêm thông tin hoặc có bất kỳ câu hỏi nào, đừng ngần ngại liên hệ với chúng tôi qua website tuyensinh.ntt.edu.vn hoặc số hotline 19002039. Chúng tôi sẵn sàng hỗ trợ bạn trong quá trình đăng ký và xét tuyển.\n"
     ]
    }
   ],
   "source": [
    "response = retrieval_chain.invoke({\"input\": \"hãy nói thêm về bạn\"})\n",
    "print(response[\"answer\"])"
   ]
  }
 ],
 "metadata": {
  "kernelspec": {
   "display_name": "Python 3",
   "language": "python",
   "name": "python3"
  },
  "language_info": {
   "codemirror_mode": {
    "name": "ipython",
    "version": 3
   },
   "file_extension": ".py",
   "mimetype": "text/x-python",
   "name": "python",
   "nbconvert_exporter": "python",
   "pygments_lexer": "ipython3",
   "version": "3.9.0"
  },
  "orig_nbformat": 4
 },
 "nbformat": 4,
 "nbformat_minor": 2
}
